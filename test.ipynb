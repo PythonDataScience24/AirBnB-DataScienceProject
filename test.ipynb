{
 "cells": [
  {
   "cell_type": "code",
   "execution_count": 45,
   "id": "initial_id",
   "metadata": {
    "collapsed": true,
    "ExecuteTime": {
     "end_time": "2024-05-13T16:23:51.667455Z",
     "start_time": "2024-05-13T16:23:51.662655Z"
    }
   },
   "outputs": [],
   "source": [
    "import pandas as pd\n",
    "import numpy as np\n",
    "column_names = ['id',\n",
    "                    'name',\n",
    "                    'host_id',\n",
    "                    'host_identity_verified',\n",
    "                    'host_name',\n",
    "                    'neighbourhood_group',\n",
    "                    'neighbourhood',\n",
    "                    'lat',\n",
    "                    'long',\n",
    "                    'country',\n",
    "                    'country_code',\n",
    "                    'instant_bookable',\n",
    "                    'cancellation_policy',\n",
    "                    'room_type',\n",
    "                    'construction_year',\n",
    "                    'price',\n",
    "                    'service_fee',\n",
    "                    'minimum_nights',\n",
    "                    'number_of_reviews',\n",
    "                    'last_review',\n",
    "                    'reviews_per_month',\n",
    "                    'review_rate_number',\n",
    "                    'calculated_host_listings_count',\n",
    "                    'availability_365',\n",
    "                    'house_rules',\n",
    "                    'license']\n",
    "data_types = {'id': int,\n",
    "                  'name': str,\n",
    "                  'host_id': int,\n",
    "                  'host_identity_verified': str,\n",
    "                  'host_name': str,\n",
    "                  'neighbourhood_group': str,\n",
    "                  'neighbourhood': str,\n",
    "                  'lat': np.float64,\n",
    "                  'long': np.float64,\n",
    "                  'country': str,\n",
    "                  'country_code': str,\n",
    "                  'instant_bookable': str,\n",
    "                  'cancellation_policy': str,\n",
    "                  'room_type': str,\n",
    "                  'construction_year': np.float64,\n",
    "                  'price': object,\n",
    "                  'service_fee': object,\n",
    "                  'minimum_nights': np.float64,\n",
    "                  'number_of_reviews': np.float64,\n",
    "                  'last_review': object,\n",
    "                  'reviews_per_month': np.float64,\n",
    "                  'review_rate_number': np.float64,\n",
    "                  'calculated_host_listings_count': np.float64,\n",
    "                  'availability_365': np.float64,\n",
    "                  'house rules': str,\n",
    "                  'license': str}"
   ]
  },
  {
   "cell_type": "code",
   "outputs": [
    {
     "data": {
      "text/plain": "0         $193 \n1          $28 \n2         $124 \n3          $74 \n4          $41 \n          ...  \n102594    $169 \n102595    $167 \n102596    $198 \n102597    $109 \n102598    $206 \nName: service_fee, Length: 102599, dtype: object"
     },
     "execution_count": 46,
     "metadata": {},
     "output_type": "execute_result"
    }
   ],
   "source": [
    "df = pd.read_csv('data/Airbnb_Open_Data.csv', names=column_names, header=0, dtype=data_types)\n",
    "df[\"service_fee\"]"
   ],
   "metadata": {
    "collapsed": false,
    "ExecuteTime": {
     "end_time": "2024-05-13T16:23:52.096070Z",
     "start_time": "2024-05-13T16:23:51.665710Z"
    }
   },
   "id": "e9ed873418996ac7",
   "execution_count": 46
  },
  {
   "cell_type": "code",
   "outputs": [
    {
     "data": {
      "text/plain": "             id                                              name  \\\n0       1001254                Clean & quiet apt home by the park   \n1       1002102                             Skylit Midtown Castle   \n2       1002403               THE VILLAGE OF HARLEM....NEW YORK !   \n3       1002755                                               NaN   \n4       1003689  Entire Apt: Spacious Studio/Loft by central park   \n...         ...                                               ...   \n102594  6092437                        Spare room in Williamsburg   \n102595  6092990                     Best Location near Columbia U   \n102596  6093542                    Comfy, bright room in Brooklyn   \n102597  6094094                  Big Studio-One Stop from Midtown   \n102598  6094647                              585 sf Luxury Studio   \n\n            host_id host_identity_verified    host_name neighbourhood_group  \\\n0       80014485718            unconfirmed     Madaline            Brooklyn   \n1       52335172823               verified        Jenna           Manhattan   \n2       78829239556                    NaN        Elise           Manhattan   \n3       85098326012            unconfirmed        Garry            Brooklyn   \n4       92037596077               verified       Lyndon           Manhattan   \n...             ...                    ...          ...                 ...   \n102594  12312296767               verified         Krik            Brooklyn   \n102595  77864383453            unconfirmed        Mifan           Manhattan   \n102596  69050334417            unconfirmed        Megan            Brooklyn   \n102597  11160591270            unconfirmed  Christopher              Queens   \n102598  68170633372            unconfirmed      Rebecca           Manhattan   \n\n              neighbourhood       lat      long        country  ...  \\\n0                Kensington  40.64749 -73.97237  United States  ...   \n1                   Midtown  40.75362 -73.98377  United States  ...   \n2                    Harlem  40.80902 -73.94190  United States  ...   \n3              Clinton Hill  40.68514 -73.95976  United States  ...   \n4               East Harlem  40.79851 -73.94399  United States  ...   \n...                     ...       ...       ...            ...  ...   \n102594         Williamsburg  40.70862 -73.94651  United States  ...   \n102595  Morningside Heights  40.80460 -73.96545  United States  ...   \n102596           Park Slope  40.67505 -73.98045  United States  ...   \n102597     Long Island City  40.74989 -73.93777  United States  ...   \n102598      Upper West Side  40.76807 -73.98342  United States  ...   \n\n       service_fee minimum_nights number_of_reviews last_review  \\\n0            $193            10.0               9.0  10/19/2021   \n1             $28            30.0              45.0   5/21/2022   \n2            $124             3.0               0.0         NaN   \n3             $74            30.0             270.0    7/5/2019   \n4             $41            10.0               9.0  11/19/2018   \n...            ...            ...               ...         ...   \n102594       $169             1.0               0.0         NaN   \n102595       $167             1.0               1.0    7/6/2015   \n102596       $198             3.0               0.0         NaN   \n102597       $109             2.0               5.0  10/11/2015   \n102598       $206             1.0               0.0         NaN   \n\n        reviews_per_month review_rate_number calculated_host_listings_count  \\\n0                    0.21                4.0                            6.0   \n1                    0.38                4.0                            2.0   \n2                     NaN                5.0                            1.0   \n3                    4.64                4.0                            1.0   \n4                    0.10                3.0                            1.0   \n...                   ...                ...                            ...   \n102594                NaN                3.0                            1.0   \n102595               0.02                2.0                            2.0   \n102596                NaN                5.0                            1.0   \n102597               0.10                3.0                            1.0   \n102598                NaN                3.0                            1.0   \n\n        availability_365                                        house_rules  \\\n0                  286.0  Clean up and treat the home the way you'd like...   \n1                  228.0  Pet friendly but please confirm with me if the...   \n2                  352.0  I encourage you to use my kitchen, cooking and...   \n3                  322.0                                                NaN   \n4                  289.0  Please no smoking in the house, porch or on th...   \n...                  ...                                                ...   \n102594             227.0  No Smoking No Parties or Events of any kind Pl...   \n102595             395.0  House rules: Guests agree to the following ter...   \n102596             342.0                                                NaN   \n102597             386.0                                                NaN   \n102598              69.0                                                NaN   \n\n       license  \n0          NaN  \n1          NaN  \n2          NaN  \n3          NaN  \n4          NaN  \n...        ...  \n102594     NaN  \n102595     NaN  \n102596     NaN  \n102597     NaN  \n102598     NaN  \n\n[102599 rows x 26 columns]",
      "text/html": "<div>\n<style scoped>\n    .dataframe tbody tr th:only-of-type {\n        vertical-align: middle;\n    }\n\n    .dataframe tbody tr th {\n        vertical-align: top;\n    }\n\n    .dataframe thead th {\n        text-align: right;\n    }\n</style>\n<table border=\"1\" class=\"dataframe\">\n  <thead>\n    <tr style=\"text-align: right;\">\n      <th></th>\n      <th>id</th>\n      <th>name</th>\n      <th>host_id</th>\n      <th>host_identity_verified</th>\n      <th>host_name</th>\n      <th>neighbourhood_group</th>\n      <th>neighbourhood</th>\n      <th>lat</th>\n      <th>long</th>\n      <th>country</th>\n      <th>...</th>\n      <th>service_fee</th>\n      <th>minimum_nights</th>\n      <th>number_of_reviews</th>\n      <th>last_review</th>\n      <th>reviews_per_month</th>\n      <th>review_rate_number</th>\n      <th>calculated_host_listings_count</th>\n      <th>availability_365</th>\n      <th>house_rules</th>\n      <th>license</th>\n    </tr>\n  </thead>\n  <tbody>\n    <tr>\n      <th>0</th>\n      <td>1001254</td>\n      <td>Clean &amp; quiet apt home by the park</td>\n      <td>80014485718</td>\n      <td>unconfirmed</td>\n      <td>Madaline</td>\n      <td>Brooklyn</td>\n      <td>Kensington</td>\n      <td>40.64749</td>\n      <td>-73.97237</td>\n      <td>United States</td>\n      <td>...</td>\n      <td>$193</td>\n      <td>10.0</td>\n      <td>9.0</td>\n      <td>10/19/2021</td>\n      <td>0.21</td>\n      <td>4.0</td>\n      <td>6.0</td>\n      <td>286.0</td>\n      <td>Clean up and treat the home the way you'd like...</td>\n      <td>NaN</td>\n    </tr>\n    <tr>\n      <th>1</th>\n      <td>1002102</td>\n      <td>Skylit Midtown Castle</td>\n      <td>52335172823</td>\n      <td>verified</td>\n      <td>Jenna</td>\n      <td>Manhattan</td>\n      <td>Midtown</td>\n      <td>40.75362</td>\n      <td>-73.98377</td>\n      <td>United States</td>\n      <td>...</td>\n      <td>$28</td>\n      <td>30.0</td>\n      <td>45.0</td>\n      <td>5/21/2022</td>\n      <td>0.38</td>\n      <td>4.0</td>\n      <td>2.0</td>\n      <td>228.0</td>\n      <td>Pet friendly but please confirm with me if the...</td>\n      <td>NaN</td>\n    </tr>\n    <tr>\n      <th>2</th>\n      <td>1002403</td>\n      <td>THE VILLAGE OF HARLEM....NEW YORK !</td>\n      <td>78829239556</td>\n      <td>NaN</td>\n      <td>Elise</td>\n      <td>Manhattan</td>\n      <td>Harlem</td>\n      <td>40.80902</td>\n      <td>-73.94190</td>\n      <td>United States</td>\n      <td>...</td>\n      <td>$124</td>\n      <td>3.0</td>\n      <td>0.0</td>\n      <td>NaN</td>\n      <td>NaN</td>\n      <td>5.0</td>\n      <td>1.0</td>\n      <td>352.0</td>\n      <td>I encourage you to use my kitchen, cooking and...</td>\n      <td>NaN</td>\n    </tr>\n    <tr>\n      <th>3</th>\n      <td>1002755</td>\n      <td>NaN</td>\n      <td>85098326012</td>\n      <td>unconfirmed</td>\n      <td>Garry</td>\n      <td>Brooklyn</td>\n      <td>Clinton Hill</td>\n      <td>40.68514</td>\n      <td>-73.95976</td>\n      <td>United States</td>\n      <td>...</td>\n      <td>$74</td>\n      <td>30.0</td>\n      <td>270.0</td>\n      <td>7/5/2019</td>\n      <td>4.64</td>\n      <td>4.0</td>\n      <td>1.0</td>\n      <td>322.0</td>\n      <td>NaN</td>\n      <td>NaN</td>\n    </tr>\n    <tr>\n      <th>4</th>\n      <td>1003689</td>\n      <td>Entire Apt: Spacious Studio/Loft by central park</td>\n      <td>92037596077</td>\n      <td>verified</td>\n      <td>Lyndon</td>\n      <td>Manhattan</td>\n      <td>East Harlem</td>\n      <td>40.79851</td>\n      <td>-73.94399</td>\n      <td>United States</td>\n      <td>...</td>\n      <td>$41</td>\n      <td>10.0</td>\n      <td>9.0</td>\n      <td>11/19/2018</td>\n      <td>0.10</td>\n      <td>3.0</td>\n      <td>1.0</td>\n      <td>289.0</td>\n      <td>Please no smoking in the house, porch or on th...</td>\n      <td>NaN</td>\n    </tr>\n    <tr>\n      <th>...</th>\n      <td>...</td>\n      <td>...</td>\n      <td>...</td>\n      <td>...</td>\n      <td>...</td>\n      <td>...</td>\n      <td>...</td>\n      <td>...</td>\n      <td>...</td>\n      <td>...</td>\n      <td>...</td>\n      <td>...</td>\n      <td>...</td>\n      <td>...</td>\n      <td>...</td>\n      <td>...</td>\n      <td>...</td>\n      <td>...</td>\n      <td>...</td>\n      <td>...</td>\n      <td>...</td>\n    </tr>\n    <tr>\n      <th>102594</th>\n      <td>6092437</td>\n      <td>Spare room in Williamsburg</td>\n      <td>12312296767</td>\n      <td>verified</td>\n      <td>Krik</td>\n      <td>Brooklyn</td>\n      <td>Williamsburg</td>\n      <td>40.70862</td>\n      <td>-73.94651</td>\n      <td>United States</td>\n      <td>...</td>\n      <td>$169</td>\n      <td>1.0</td>\n      <td>0.0</td>\n      <td>NaN</td>\n      <td>NaN</td>\n      <td>3.0</td>\n      <td>1.0</td>\n      <td>227.0</td>\n      <td>No Smoking No Parties or Events of any kind Pl...</td>\n      <td>NaN</td>\n    </tr>\n    <tr>\n      <th>102595</th>\n      <td>6092990</td>\n      <td>Best Location near Columbia U</td>\n      <td>77864383453</td>\n      <td>unconfirmed</td>\n      <td>Mifan</td>\n      <td>Manhattan</td>\n      <td>Morningside Heights</td>\n      <td>40.80460</td>\n      <td>-73.96545</td>\n      <td>United States</td>\n      <td>...</td>\n      <td>$167</td>\n      <td>1.0</td>\n      <td>1.0</td>\n      <td>7/6/2015</td>\n      <td>0.02</td>\n      <td>2.0</td>\n      <td>2.0</td>\n      <td>395.0</td>\n      <td>House rules: Guests agree to the following ter...</td>\n      <td>NaN</td>\n    </tr>\n    <tr>\n      <th>102596</th>\n      <td>6093542</td>\n      <td>Comfy, bright room in Brooklyn</td>\n      <td>69050334417</td>\n      <td>unconfirmed</td>\n      <td>Megan</td>\n      <td>Brooklyn</td>\n      <td>Park Slope</td>\n      <td>40.67505</td>\n      <td>-73.98045</td>\n      <td>United States</td>\n      <td>...</td>\n      <td>$198</td>\n      <td>3.0</td>\n      <td>0.0</td>\n      <td>NaN</td>\n      <td>NaN</td>\n      <td>5.0</td>\n      <td>1.0</td>\n      <td>342.0</td>\n      <td>NaN</td>\n      <td>NaN</td>\n    </tr>\n    <tr>\n      <th>102597</th>\n      <td>6094094</td>\n      <td>Big Studio-One Stop from Midtown</td>\n      <td>11160591270</td>\n      <td>unconfirmed</td>\n      <td>Christopher</td>\n      <td>Queens</td>\n      <td>Long Island City</td>\n      <td>40.74989</td>\n      <td>-73.93777</td>\n      <td>United States</td>\n      <td>...</td>\n      <td>$109</td>\n      <td>2.0</td>\n      <td>5.0</td>\n      <td>10/11/2015</td>\n      <td>0.10</td>\n      <td>3.0</td>\n      <td>1.0</td>\n      <td>386.0</td>\n      <td>NaN</td>\n      <td>NaN</td>\n    </tr>\n    <tr>\n      <th>102598</th>\n      <td>6094647</td>\n      <td>585 sf Luxury Studio</td>\n      <td>68170633372</td>\n      <td>unconfirmed</td>\n      <td>Rebecca</td>\n      <td>Manhattan</td>\n      <td>Upper West Side</td>\n      <td>40.76807</td>\n      <td>-73.98342</td>\n      <td>United States</td>\n      <td>...</td>\n      <td>$206</td>\n      <td>1.0</td>\n      <td>0.0</td>\n      <td>NaN</td>\n      <td>NaN</td>\n      <td>3.0</td>\n      <td>1.0</td>\n      <td>69.0</td>\n      <td>NaN</td>\n      <td>NaN</td>\n    </tr>\n  </tbody>\n</table>\n<p>102599 rows × 26 columns</p>\n</div>"
     },
     "execution_count": 48,
     "metadata": {},
     "output_type": "execute_result"
    }
   ],
   "source": [
    "\n",
    "df1 = df[\"service_fee\"].astype(str).str.replace('$', \"\").astype(np.float64)\n",
    "df\n"
   ],
   "metadata": {
    "collapsed": false,
    "ExecuteTime": {
     "end_time": "2024-05-13T16:23:58.364182Z",
     "start_time": "2024-05-13T16:23:58.322583Z"
    }
   },
   "id": "2c1e1b98eff7a88f",
   "execution_count": 48
  },
  {
   "cell_type": "code",
   "outputs": [],
   "source": [],
   "metadata": {
    "collapsed": false,
    "ExecuteTime": {
     "end_time": "2024-05-13T16:23:52.124400Z",
     "start_time": "2024-05-13T16:23:52.120273Z"
    }
   },
   "id": "50289619129f881f",
   "execution_count": 47
  },
  {
   "cell_type": "code",
   "outputs": [],
   "source": [],
   "metadata": {
    "collapsed": false,
    "ExecuteTime": {
     "end_time": "2024-05-13T16:23:52.128902Z",
     "start_time": "2024-05-13T16:23:52.123441Z"
    }
   },
   "id": "a3dd20938a664e47",
   "execution_count": 47
  }
 ],
 "metadata": {
  "kernelspec": {
   "display_name": "Python 3",
   "language": "python",
   "name": "python3"
  },
  "language_info": {
   "codemirror_mode": {
    "name": "ipython",
    "version": 2
   },
   "file_extension": ".py",
   "mimetype": "text/x-python",
   "name": "python",
   "nbconvert_exporter": "python",
   "pygments_lexer": "ipython2",
   "version": "2.7.6"
  }
 },
 "nbformat": 4,
 "nbformat_minor": 5
}
