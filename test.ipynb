{
 "cells": [
  {
   "cell_type": "code",
   "execution_count": 1,
   "id": "initial_id",
   "metadata": {
    "collapsed": true,
    "ExecuteTime": {
     "end_time": "2024-05-12T17:00:27.611521Z",
     "start_time": "2024-05-12T17:00:27.032441Z"
    }
   },
   "outputs": [
    {
     "name": "stderr",
     "output_type": "stream",
     "text": [
      "/var/folders/jh/rt55rnlj5lx_xsb8c7v63bj40000gn/T/ipykernel_3223/1269937841.py:2: DtypeWarning: Columns (25) have mixed types. Specify dtype option on import or set low_memory=False.\n",
      "  df = pd.read_csv('data/Airbnb_Open_Data.csv')\n"
     ]
    }
   ],
   "source": [
    "import pandas as pd\n",
    "df = pd.read_csv('data/Airbnb_Open_Data.csv')"
   ]
  },
  {
   "cell_type": "code",
   "outputs": [
    {
     "data": {
      "text/plain": "             id                                              NAME  \\\n0       1001254                Clean & quiet apt home by the park   \n1       1002102                             Skylit Midtown Castle   \n2       1002403               THE VILLAGE OF HARLEM....NEW YORK !   \n3       1002755                                               NaN   \n4       1003689  Entire Apt: Spacious Studio/Loft by central park   \n...         ...                                               ...   \n102594  6092437                        Spare room in Williamsburg   \n102595  6092990                     Best Location near Columbia U   \n102596  6093542                    Comfy, bright room in Brooklyn   \n102597  6094094                  Big Studio-One Stop from Midtown   \n102598  6094647                              585 sf Luxury Studio   \n\n            host id host_identity_verified    host name neighbourhood group  \\\n0       80014485718            unconfirmed     Madaline            Brooklyn   \n1       52335172823               verified        Jenna           Manhattan   \n2       78829239556                    NaN        Elise           Manhattan   \n3       85098326012            unconfirmed        Garry            Brooklyn   \n4       92037596077               verified       Lyndon           Manhattan   \n...             ...                    ...          ...                 ...   \n102594  12312296767               verified         Krik            Brooklyn   \n102595  77864383453            unconfirmed        Mifan           Manhattan   \n102596  69050334417            unconfirmed        Megan            Brooklyn   \n102597  11160591270            unconfirmed  Christopher              Queens   \n102598  68170633372            unconfirmed      Rebecca           Manhattan   \n\n              neighbourhood       lat      long        country  ...  \\\n0                Kensington  40.64749 -73.97237  United States  ...   \n1                   Midtown  40.75362 -73.98377  United States  ...   \n2                    Harlem  40.80902 -73.94190  United States  ...   \n3              Clinton Hill  40.68514 -73.95976  United States  ...   \n4               East Harlem  40.79851 -73.94399  United States  ...   \n...                     ...       ...       ...            ...  ...   \n102594         Williamsburg  40.70862 -73.94651  United States  ...   \n102595  Morningside Heights  40.80460 -73.96545  United States  ...   \n102596           Park Slope  40.67505 -73.98045  United States  ...   \n102597     Long Island City  40.74989 -73.93777  United States  ...   \n102598      Upper West Side  40.76807 -73.98342  United States  ...   \n\n       service fee minimum nights number of reviews last review  \\\n0            $193            10.0               9.0  10/19/2021   \n1             $28            30.0              45.0   5/21/2022   \n2            $124             3.0               0.0         NaN   \n3             $74            30.0             270.0    7/5/2019   \n4             $41            10.0               9.0  11/19/2018   \n...            ...            ...               ...         ...   \n102594       $169             1.0               0.0         NaN   \n102595       $167             1.0               1.0    7/6/2015   \n102596       $198             3.0               0.0         NaN   \n102597       $109             2.0               5.0  10/11/2015   \n102598       $206             1.0               0.0         NaN   \n\n        reviews per month review rate number calculated host listings count  \\\n0                    0.21                4.0                            6.0   \n1                    0.38                4.0                            2.0   \n2                     NaN                5.0                            1.0   \n3                    4.64                4.0                            1.0   \n4                    0.10                3.0                            1.0   \n...                   ...                ...                            ...   \n102594                NaN                3.0                            1.0   \n102595               0.02                2.0                            2.0   \n102596                NaN                5.0                            1.0   \n102597               0.10                3.0                            1.0   \n102598                NaN                3.0                            1.0   \n\n        availability 365                                        house_rules  \\\n0                  286.0  Clean up and treat the home the way you'd like...   \n1                  228.0  Pet friendly but please confirm with me if the...   \n2                  352.0  I encourage you to use my kitchen, cooking and...   \n3                  322.0                                                NaN   \n4                  289.0  Please no smoking in the house, porch or on th...   \n...                  ...                                                ...   \n102594             227.0  No Smoking No Parties or Events of any kind Pl...   \n102595             395.0  House rules: Guests agree to the following ter...   \n102596             342.0                                                NaN   \n102597             386.0                                                NaN   \n102598              69.0                                                NaN   \n\n       license  \n0          NaN  \n1          NaN  \n2          NaN  \n3          NaN  \n4          NaN  \n...        ...  \n102594     NaN  \n102595     NaN  \n102596     NaN  \n102597     NaN  \n102598     NaN  \n\n[102599 rows x 26 columns]",
      "text/html": "<div>\n<style scoped>\n    .dataframe tbody tr th:only-of-type {\n        vertical-align: middle;\n    }\n\n    .dataframe tbody tr th {\n        vertical-align: top;\n    }\n\n    .dataframe thead th {\n        text-align: right;\n    }\n</style>\n<table border=\"1\" class=\"dataframe\">\n  <thead>\n    <tr style=\"text-align: right;\">\n      <th></th>\n      <th>id</th>\n      <th>NAME</th>\n      <th>host id</th>\n      <th>host_identity_verified</th>\n      <th>host name</th>\n      <th>neighbourhood group</th>\n      <th>neighbourhood</th>\n      <th>lat</th>\n      <th>long</th>\n      <th>country</th>\n      <th>...</th>\n      <th>service fee</th>\n      <th>minimum nights</th>\n      <th>number of reviews</th>\n      <th>last review</th>\n      <th>reviews per month</th>\n      <th>review rate number</th>\n      <th>calculated host listings count</th>\n      <th>availability 365</th>\n      <th>house_rules</th>\n      <th>license</th>\n    </tr>\n  </thead>\n  <tbody>\n    <tr>\n      <th>0</th>\n      <td>1001254</td>\n      <td>Clean &amp; quiet apt home by the park</td>\n      <td>80014485718</td>\n      <td>unconfirmed</td>\n      <td>Madaline</td>\n      <td>Brooklyn</td>\n      <td>Kensington</td>\n      <td>40.64749</td>\n      <td>-73.97237</td>\n      <td>United States</td>\n      <td>...</td>\n      <td>$193</td>\n      <td>10.0</td>\n      <td>9.0</td>\n      <td>10/19/2021</td>\n      <td>0.21</td>\n      <td>4.0</td>\n      <td>6.0</td>\n      <td>286.0</td>\n      <td>Clean up and treat the home the way you'd like...</td>\n      <td>NaN</td>\n    </tr>\n    <tr>\n      <th>1</th>\n      <td>1002102</td>\n      <td>Skylit Midtown Castle</td>\n      <td>52335172823</td>\n      <td>verified</td>\n      <td>Jenna</td>\n      <td>Manhattan</td>\n      <td>Midtown</td>\n      <td>40.75362</td>\n      <td>-73.98377</td>\n      <td>United States</td>\n      <td>...</td>\n      <td>$28</td>\n      <td>30.0</td>\n      <td>45.0</td>\n      <td>5/21/2022</td>\n      <td>0.38</td>\n      <td>4.0</td>\n      <td>2.0</td>\n      <td>228.0</td>\n      <td>Pet friendly but please confirm with me if the...</td>\n      <td>NaN</td>\n    </tr>\n    <tr>\n      <th>2</th>\n      <td>1002403</td>\n      <td>THE VILLAGE OF HARLEM....NEW YORK !</td>\n      <td>78829239556</td>\n      <td>NaN</td>\n      <td>Elise</td>\n      <td>Manhattan</td>\n      <td>Harlem</td>\n      <td>40.80902</td>\n      <td>-73.94190</td>\n      <td>United States</td>\n      <td>...</td>\n      <td>$124</td>\n      <td>3.0</td>\n      <td>0.0</td>\n      <td>NaN</td>\n      <td>NaN</td>\n      <td>5.0</td>\n      <td>1.0</td>\n      <td>352.0</td>\n      <td>I encourage you to use my kitchen, cooking and...</td>\n      <td>NaN</td>\n    </tr>\n    <tr>\n      <th>3</th>\n      <td>1002755</td>\n      <td>NaN</td>\n      <td>85098326012</td>\n      <td>unconfirmed</td>\n      <td>Garry</td>\n      <td>Brooklyn</td>\n      <td>Clinton Hill</td>\n      <td>40.68514</td>\n      <td>-73.95976</td>\n      <td>United States</td>\n      <td>...</td>\n      <td>$74</td>\n      <td>30.0</td>\n      <td>270.0</td>\n      <td>7/5/2019</td>\n      <td>4.64</td>\n      <td>4.0</td>\n      <td>1.0</td>\n      <td>322.0</td>\n      <td>NaN</td>\n      <td>NaN</td>\n    </tr>\n    <tr>\n      <th>4</th>\n      <td>1003689</td>\n      <td>Entire Apt: Spacious Studio/Loft by central park</td>\n      <td>92037596077</td>\n      <td>verified</td>\n      <td>Lyndon</td>\n      <td>Manhattan</td>\n      <td>East Harlem</td>\n      <td>40.79851</td>\n      <td>-73.94399</td>\n      <td>United States</td>\n      <td>...</td>\n      <td>$41</td>\n      <td>10.0</td>\n      <td>9.0</td>\n      <td>11/19/2018</td>\n      <td>0.10</td>\n      <td>3.0</td>\n      <td>1.0</td>\n      <td>289.0</td>\n      <td>Please no smoking in the house, porch or on th...</td>\n      <td>NaN</td>\n    </tr>\n    <tr>\n      <th>...</th>\n      <td>...</td>\n      <td>...</td>\n      <td>...</td>\n      <td>...</td>\n      <td>...</td>\n      <td>...</td>\n      <td>...</td>\n      <td>...</td>\n      <td>...</td>\n      <td>...</td>\n      <td>...</td>\n      <td>...</td>\n      <td>...</td>\n      <td>...</td>\n      <td>...</td>\n      <td>...</td>\n      <td>...</td>\n      <td>...</td>\n      <td>...</td>\n      <td>...</td>\n      <td>...</td>\n    </tr>\n    <tr>\n      <th>102594</th>\n      <td>6092437</td>\n      <td>Spare room in Williamsburg</td>\n      <td>12312296767</td>\n      <td>verified</td>\n      <td>Krik</td>\n      <td>Brooklyn</td>\n      <td>Williamsburg</td>\n      <td>40.70862</td>\n      <td>-73.94651</td>\n      <td>United States</td>\n      <td>...</td>\n      <td>$169</td>\n      <td>1.0</td>\n      <td>0.0</td>\n      <td>NaN</td>\n      <td>NaN</td>\n      <td>3.0</td>\n      <td>1.0</td>\n      <td>227.0</td>\n      <td>No Smoking No Parties or Events of any kind Pl...</td>\n      <td>NaN</td>\n    </tr>\n    <tr>\n      <th>102595</th>\n      <td>6092990</td>\n      <td>Best Location near Columbia U</td>\n      <td>77864383453</td>\n      <td>unconfirmed</td>\n      <td>Mifan</td>\n      <td>Manhattan</td>\n      <td>Morningside Heights</td>\n      <td>40.80460</td>\n      <td>-73.96545</td>\n      <td>United States</td>\n      <td>...</td>\n      <td>$167</td>\n      <td>1.0</td>\n      <td>1.0</td>\n      <td>7/6/2015</td>\n      <td>0.02</td>\n      <td>2.0</td>\n      <td>2.0</td>\n      <td>395.0</td>\n      <td>House rules: Guests agree to the following ter...</td>\n      <td>NaN</td>\n    </tr>\n    <tr>\n      <th>102596</th>\n      <td>6093542</td>\n      <td>Comfy, bright room in Brooklyn</td>\n      <td>69050334417</td>\n      <td>unconfirmed</td>\n      <td>Megan</td>\n      <td>Brooklyn</td>\n      <td>Park Slope</td>\n      <td>40.67505</td>\n      <td>-73.98045</td>\n      <td>United States</td>\n      <td>...</td>\n      <td>$198</td>\n      <td>3.0</td>\n      <td>0.0</td>\n      <td>NaN</td>\n      <td>NaN</td>\n      <td>5.0</td>\n      <td>1.0</td>\n      <td>342.0</td>\n      <td>NaN</td>\n      <td>NaN</td>\n    </tr>\n    <tr>\n      <th>102597</th>\n      <td>6094094</td>\n      <td>Big Studio-One Stop from Midtown</td>\n      <td>11160591270</td>\n      <td>unconfirmed</td>\n      <td>Christopher</td>\n      <td>Queens</td>\n      <td>Long Island City</td>\n      <td>40.74989</td>\n      <td>-73.93777</td>\n      <td>United States</td>\n      <td>...</td>\n      <td>$109</td>\n      <td>2.0</td>\n      <td>5.0</td>\n      <td>10/11/2015</td>\n      <td>0.10</td>\n      <td>3.0</td>\n      <td>1.0</td>\n      <td>386.0</td>\n      <td>NaN</td>\n      <td>NaN</td>\n    </tr>\n    <tr>\n      <th>102598</th>\n      <td>6094647</td>\n      <td>585 sf Luxury Studio</td>\n      <td>68170633372</td>\n      <td>unconfirmed</td>\n      <td>Rebecca</td>\n      <td>Manhattan</td>\n      <td>Upper West Side</td>\n      <td>40.76807</td>\n      <td>-73.98342</td>\n      <td>United States</td>\n      <td>...</td>\n      <td>$206</td>\n      <td>1.0</td>\n      <td>0.0</td>\n      <td>NaN</td>\n      <td>NaN</td>\n      <td>3.0</td>\n      <td>1.0</td>\n      <td>69.0</td>\n      <td>NaN</td>\n      <td>NaN</td>\n    </tr>\n  </tbody>\n</table>\n<p>102599 rows × 26 columns</p>\n</div>"
     },
     "execution_count": 2,
     "metadata": {},
     "output_type": "execute_result"
    }
   ],
   "source": [
    "df"
   ],
   "metadata": {
    "collapsed": false,
    "ExecuteTime": {
     "end_time": "2024-05-12T17:00:29.510439Z",
     "start_time": "2024-05-12T17:00:29.448973Z"
    }
   },
   "id": "31753cf16c24c2f7",
   "execution_count": 2
  },
  {
   "cell_type": "code",
   "outputs": [
    {
     "data": {
      "text/plain": "         id                                NAME      host id  \\\n26  1015696  Sunny Bedroom Across Prospect Park  81686279636   \n\n   host_identity_verified host name neighbourhood group    neighbourhood  \\\n26                    NaN    Carlos            Brooklyn  Windsor Terrace   \n\n         lat      long        country  ... service fee minimum nights  \\\n26  40.65599 -73.97519  United States  ...       $106             1.0   \n\n   number of reviews last review  reviews per month review rate number  \\\n26              19.0   6/23/2019               1.37                5.0   \n\n   calculated host listings count  availability 365  \\\n26                            2.0             344.0   \n\n                                          house_rules license  \n26  Quiet neighborhood, middle apartment of big ho...     NaN  \n\n[1 rows x 26 columns]",
      "text/html": "<div>\n<style scoped>\n    .dataframe tbody tr th:only-of-type {\n        vertical-align: middle;\n    }\n\n    .dataframe tbody tr th {\n        vertical-align: top;\n    }\n\n    .dataframe thead th {\n        text-align: right;\n    }\n</style>\n<table border=\"1\" class=\"dataframe\">\n  <thead>\n    <tr style=\"text-align: right;\">\n      <th></th>\n      <th>id</th>\n      <th>NAME</th>\n      <th>host id</th>\n      <th>host_identity_verified</th>\n      <th>host name</th>\n      <th>neighbourhood group</th>\n      <th>neighbourhood</th>\n      <th>lat</th>\n      <th>long</th>\n      <th>country</th>\n      <th>...</th>\n      <th>service fee</th>\n      <th>minimum nights</th>\n      <th>number of reviews</th>\n      <th>last review</th>\n      <th>reviews per month</th>\n      <th>review rate number</th>\n      <th>calculated host listings count</th>\n      <th>availability 365</th>\n      <th>house_rules</th>\n      <th>license</th>\n    </tr>\n  </thead>\n  <tbody>\n    <tr>\n      <th>26</th>\n      <td>1015696</td>\n      <td>Sunny Bedroom Across Prospect Park</td>\n      <td>81686279636</td>\n      <td>NaN</td>\n      <td>Carlos</td>\n      <td>Brooklyn</td>\n      <td>Windsor Terrace</td>\n      <td>40.65599</td>\n      <td>-73.97519</td>\n      <td>United States</td>\n      <td>...</td>\n      <td>$106</td>\n      <td>1.0</td>\n      <td>19.0</td>\n      <td>6/23/2019</td>\n      <td>1.37</td>\n      <td>5.0</td>\n      <td>2.0</td>\n      <td>344.0</td>\n      <td>Quiet neighborhood, middle apartment of big ho...</td>\n      <td>NaN</td>\n    </tr>\n  </tbody>\n</table>\n<p>1 rows × 26 columns</p>\n</div>"
     },
     "execution_count": 4,
     "metadata": {},
     "output_type": "execute_result"
    }
   ],
   "source": [
    "df[df[\"NAME\"] == \"Sunny Bedroom Across Prospect Park\"]"
   ],
   "metadata": {
    "collapsed": false,
    "ExecuteTime": {
     "end_time": "2024-05-12T17:02:57.424344Z",
     "start_time": "2024-05-12T17:02:57.413320Z"
    }
   },
   "id": "6bb4b1b23d4ae466",
   "execution_count": 4
  },
  {
   "cell_type": "code",
   "outputs": [],
   "source": [],
   "metadata": {
    "collapsed": false
   },
   "id": "993a4bd886be35ae"
  }
 ],
 "metadata": {
  "kernelspec": {
   "display_name": "Python 3",
   "language": "python",
   "name": "python3"
  },
  "language_info": {
   "codemirror_mode": {
    "name": "ipython",
    "version": 2
   },
   "file_extension": ".py",
   "mimetype": "text/x-python",
   "name": "python",
   "nbconvert_exporter": "python",
   "pygments_lexer": "ipython2",
   "version": "2.7.6"
  }
 },
 "nbformat": 4,
 "nbformat_minor": 5
}
