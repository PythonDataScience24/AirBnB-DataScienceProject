{
 "cells": [
  {
   "cell_type": "code",
   "execution_count": null,
   "id": "initial_id",
   "metadata": {
    "collapsed": true
   },
   "outputs": [],
   "source": [
    "import pandas as pd\n"
   ]
  },
  {
   "cell_type": "code",
   "outputs": [],
   "source": [
    "data = pd.read_csv(\"../data/Airbnb_Open_Data.csv\")\n",
    "data\n"
   ],
   "metadata": {
    "collapsed": false
   },
   "id": "5a8d3b8340128a7d",
   "execution_count": null
  },
  {
   "cell_type": "code",
   "outputs": [
    {
     "name": "stderr",
     "output_type": "stream",
     "text": [
      "/var/folders/jh/rt55rnlj5lx_xsb8c7v63bj40000gn/T/ipykernel_4570/4167300132.py:4: DtypeWarning: Columns (25) have mixed types. Specify dtype option on import or set low_memory=False.\n",
      "  data = pd.read_csv(\"../data/Airbnb_Open_Data.csv\")\n"
     ]
    }
   ],
   "source": [
    "#Data exploration\n",
    "#How manys percent og the accommodations can still be rented for one year\n",
    "\n",
    "data = pd.read_csv(\"../data/Airbnb_Open_Data.csv\")\n",
    "data.loc[data[\"availability 365\"] > 365, \"availability 365\"] = 365\n",
    "data.loc[data[\"availability 365\"] < 0, \"availability 365\"] = 0\n",
    "#Drop rows which \n",
    "\n",
    "\n",
    "def room_availability_in_exact_days(days: int, data: pd.DataFrame) -> pd.DataFrame:\n",
    "    listings = data[data['availability 365'] == days]\n",
    "    quotient = data.shape[0] / listings.shape[0]\n",
    "    return round(100 / quotient)\n",
    "\n",
    "def room_availability_less_than(days: int):\n",
    "    listings = data[data['availability 365'] <= days]\n",
    "    quotient = data.shape[0] / listings.shape[0]\n",
    "    return round(100 / quotient)\n",
    "\n",
    "def room_type_max_availability_per_type() -> pd.DataFrame:\n",
    "    listings = data.groupby(\"room type\")[\"availability 365\"].max()\n",
    "    return listings\n",
    "\n",
    "def room_type_min_availability_per_type() -> pd.DataFrame:\n",
    "    listings = data.groupby(\"room type\")[\"availability 365\"].min()\n",
    "    return listings\n",
    "\n",
    "def room_type_avg_availability_per_type():\n",
    "    listings  = data.groupby(\"room type\")[\"availability 365\"].mean()\n",
    "    return listings\n",
    "\n",
    "def percentage_no_availability_per_type():\n",
    "    listings = data[data[\"availability 365\"] == 0]\n",
    "    listings_grouped_by_type = listings.groupby(\"room type\")[\"availability 365\"].count()\n",
    "    total_count = data.groupby(\"room type\")[\"availability 365\"].count()\n",
    "    quotient = total_count / listings_grouped_by_type\n",
    "    result = 100 / quotient\n",
    "    return result\n",
    "\n",
    "def percentage_availability_per_type(days: int):\n",
    "    listings = data[data[\"availability 365\"] >= days]\n",
    "    listings_grouped_by_type = listings.groupby(\"room type\")[\"availability 365\"].count()\n",
    "    total_count = data.groupby(\"room type\")[\"availability 365\"].count()\n",
    "    quotient = total_count / listings_grouped_by_type\n",
    "    result = 100 / quotient\n",
    "    return result\n",
    "\n",
    "\n",
    "def room_availability_with_price_less_than(price: float):\n",
    "    mean = data.loc[data[\"price\"] <= price, \"price\"].mean()\n",
    "    return mean\n",
    "\n",
    "def no_room_availability_with_price_less_than(price: float):\n",
    "    listings = data[[\"price\", \"availability 365\"]]\n",
    "    prices = listings[\"price\"].str.replace(\",\", \".\").str[1:].astype(float)\n",
    "    listings[\"price\"] = prices\n",
    "    listings = listings[listings[\"price\"] <= price]\n",
    "    listings_no_availability = listings[listings[\"availability 365\"] == 0]\n",
    "    quotient = listings.shape[0] / listings_no_availability.shape[0]\n",
    "    return 100 / quotient\n",
    "\n",
    "    \n",
    "\n"
   ],
   "metadata": {
    "collapsed": false,
    "ExecuteTime": {
     "end_time": "2024-04-28T19:06:53.833159Z",
     "start_time": "2024-04-28T19:06:53.398950Z"
    }
   },
   "id": "f647a79a6e298522",
   "execution_count": 83
  },
  {
   "cell_type": "markdown",
   "source": [],
   "metadata": {
    "collapsed": false
   },
   "id": "6b6a1d0b40e8b3ee"
  },
  {
   "cell_type": "code",
   "outputs": [
    {
     "name": "stderr",
     "output_type": "stream",
     "text": [
      "/var/folders/jh/rt55rnlj5lx_xsb8c7v63bj40000gn/T/ipykernel_4570/4167300132.py:56: SettingWithCopyWarning: \n",
      "A value is trying to be set on a copy of a slice from a DataFrame.\n",
      "Try using .loc[row_indexer,col_indexer] = value instead\n",
      "\n",
      "See the caveats in the documentation: https://pandas.pydata.org/pandas-docs/stable/user_guide/indexing.html#returning-a-view-versus-a-copy\n",
      "  listings[\"price\"] = prices\n"
     ]
    },
    {
     "data": {
      "text/plain": "23.665055286992278"
     },
     "execution_count": 84,
     "metadata": {},
     "output_type": "execute_result"
    }
   ],
   "source": [
    "no_room_availability_with_price_less_than(50)"
   ],
   "metadata": {
    "collapsed": false,
    "ExecuteTime": {
     "end_time": "2024-04-28T19:06:56.002284Z",
     "start_time": "2024-04-28T19:06:55.963423Z"
    }
   },
   "id": "9c5390824495713d",
   "execution_count": 84
  },
  {
   "cell_type": "code",
   "outputs": [
    {
     "data": {
      "text/plain": "0           $966 \n1           $142 \n2           $620 \n3           $368 \n4           $204 \n           ...   \n102594      $844 \n102595      $837 \n102596      $988 \n102597      $546 \n102598    $1,032 \nName: price, Length: 102599, dtype: object"
     },
     "execution_count": 81,
     "metadata": {},
     "output_type": "execute_result"
    }
   ],
   "source": [],
   "metadata": {
    "collapsed": false,
    "ExecuteTime": {
     "end_time": "2024-04-28T19:05:23.240280Z",
     "start_time": "2024-04-28T19:05:23.235852Z"
    }
   },
   "id": "839a59220a419d93",
   "execution_count": 81
  },
  {
   "cell_type": "code",
   "outputs": [],
   "source": [],
   "metadata": {
    "collapsed": false
   },
   "id": "8e4d800ab2ff9dca"
  }
 ],
 "metadata": {
  "kernelspec": {
   "display_name": "Python 3",
   "language": "python",
   "name": "python3"
  },
  "language_info": {
   "codemirror_mode": {
    "name": "ipython",
    "version": 2
   },
   "file_extension": ".py",
   "mimetype": "text/x-python",
   "name": "python",
   "nbconvert_exporter": "python",
   "pygments_lexer": "ipython2",
   "version": "2.7.6"
  }
 },
 "nbformat": 4,
 "nbformat_minor": 5
}
